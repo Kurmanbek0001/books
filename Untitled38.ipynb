{
  "nbformat": 4,
  "nbformat_minor": 0,
  "metadata": {
    "colab": {
      "provenance": [],
      "authorship_tag": "ABX9TyOKAbBKgwMvDZwHY6tQL3so",
      "include_colab_link": true
    },
    "kernelspec": {
      "name": "python3",
      "display_name": "Python 3"
    },
    "language_info": {
      "name": "python"
    }
  },
  "cells": [
    {
      "cell_type": "markdown",
      "metadata": {
        "id": "view-in-github",
        "colab_type": "text"
      },
      "source": [
        "<a href=\"https://colab.research.google.com/github/Kurmanbek0001/books/blob/main/Untitled38.ipynb\" target=\"_parent\"><img src=\"https://colab.research.google.com/assets/colab-badge.svg\" alt=\"Open In Colab\"/></a>"
      ]
    },
    {
      "cell_type": "code",
      "execution_count": null,
      "metadata": {
        "id": "z1bEQ9wm9k00"
      },
      "outputs": [],
      "source": [
        "class Book:\n",
        "    def __init__(self, title=None, author=None, ISBN=None, price=None):\n",
        "        self.title = title\n",
        "        self.author = author\n",
        "        self.ISBN = ISBN\n",
        "        self.price = price\n",
        "\n",
        "    def display_info(self):\n",
        "        print(f\"Title: {self.title}\")\n",
        "        print(f\"Author: {self.author}\")\n",
        "        print(f\"ISBN: {self.ISBN}\")\n",
        "        print(f\"Price: ${self.price:.2f}\")\n",
        "\n",
        "    def is_expensive(self):\n",
        "        if self.price > 50:\n",
        "            print(f\"{self.title} is an expensive book!\")\n",
        "        else:\n",
        "            print(f\"{self.title} is reasonably priced.\")\n",
        "\n",
        "\n",
        "# Test the class\n",
        "books = []\n",
        "n = int(input(\"How many books would you like to create? \"))\n",
        "\n",
        "# Creating books using default and parameterized constructors\n",
        "for _ in range(n):\n",
        "    choice = input(\"Do you want to input book details? (yes/no): \")\n",
        "    if choice.lower() == 'yes':\n",
        "        title = input(\"Enter the title: \")\n",
        "        author = input(\"Enter the author: \")\n",
        "        ISBN = input(\"Enter the ISBN: \")\n",
        "        price = float(input(\"Enter the price: \"))\n",
        "        book = Book(title, author, ISBN, price)\n",
        "    else:\n",
        "        book = Book()  # Default constructor\n",
        "    books.append(book)\n",
        "\n",
        "# Display info for each book\n",
        "for book in books:\n",
        "    book.display_info()\n",
        "    book.is_expensive()"
      ]
    }
  ]
}